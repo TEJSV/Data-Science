{
 "cells": [
  {
   "cell_type": "code",
   "execution_count": 19,
   "metadata": {},
   "outputs": [
    {
     "name": "stdout",
     "output_type": "stream",
     "text": [
      "{'Physics': {'High': 'Yes',\n",
      "             'Low': {'Maths': {'High': 'Yes', 'Low': 'No'}},\n",
      "             'Med': {'Chemistry': {'High': {'Maths': {'High': 'No',\n",
      "                                                      'Low': 'Yes'}},\n",
      "                                   'Low': {'Maths': {'High': 'Yes',\n",
      "                                                     'Low': 'No'}}}}}}\n"
     ]
    }
   ],
   "source": [
    "import numpy as np\n",
    "import pandas as pd\n",
    "eps = np.finfo(float).eps\n",
    "from numpy import log2 as log\n",
    "dataset = {'Physics':['Low','Med','Med','Med','Med','High','Low','High','Med','Low'],\n",
    "       'Chemistry':['Low','Low','Low','High','Low','High','High','Low','High','Low'],\n",
    "       'Maths':['Low','Low','High','High','High','Low','Low','Low','Low','High'],\n",
    "       'Pass':['No','No','Yes','No','Yes','Yes','No','Yes','Yes','Yes']}\n",
    "df = pd.DataFrame(dataset,columns=['Physics','Chemistry','Maths','Pass'])\n",
    "entropy_node = 0  \n",
    "values = df.Pass.unique() \n",
    "for value in values:\n",
    "    fraction = df.Pass.value_counts()[value]/len(df.Pass)\n",
    "    entropy_node += -fraction*np.log2(fraction)\n",
    "attribute = 'Physics'\n",
    "target_variables = df.Pass.unique() \n",
    "variables = df[attribute].unique()   \n",
    "entropy_attribute = 0\n",
    "for variable in variables:\n",
    "    entropy_each_feature = 0\n",
    "    for target_variable in target_variables:\n",
    "        num = len(df[attribute][df[attribute]==variable][df.Pass ==target_variable]) \n",
    "        den = len(df[attribute][df[attribute]==variable])  \n",
    "        fraction = num/(den+eps)  \n",
    "        entropy_each_feature += -fraction*log(fraction+eps) \n",
    "    fraction2 = den/len(df)\n",
    "    entropy_attribute += -fraction2*entropy_each_feature   \n",
    "def find_entropy(df):\n",
    "    Class = df.keys()[-1]   \n",
    "    entropy = 0\n",
    "    values = df[Class].unique()\n",
    "    for value in values:\n",
    "        fraction = df[Class].value_counts()[value]/len(df[Class])\n",
    "        entropy += -fraction*np.log2(fraction)\n",
    "    return entropy\n",
    "\n",
    "\n",
    "def find_entropy_attribute(df,attribute):\n",
    "  Class = df.keys()[-1]   \n",
    "  target_variables = df[Class].unique()  \n",
    "  variables = df[attribute].unique()    #To give different features in that attribute (like 'Low','High' in Chemistry)\n",
    "  entropy2 = 0\n",
    "  for variable in variables:\n",
    "      entropy = 0\n",
    "      for target_variable in target_variables:\n",
    "          num = len(df[attribute][df[attribute]==variable][df[Class] ==target_variable])\n",
    "          den = len(df[attribute][df[attribute]==variable])\n",
    "          fraction = num/(den+eps)\n",
    "          entropy += -fraction*log(fraction+eps)\n",
    "      fraction2 = den/len(df)\n",
    "      entropy2 += -fraction2*entropy\n",
    "  return abs(entropy2)\n",
    "\n",
    "\n",
    "def find_winner(df):\n",
    "    Entropy_att = []\n",
    "    IG = []\n",
    "    for key in df.keys()[:-1]:\n",
    "\n",
    "        IG.append(find_entropy(df)-find_entropy_attribute(df,key))\n",
    "    return df.keys()[:-1][np.argmax(IG)]\n",
    "\n",
    "\n",
    "def get_subtable(df, node,value):\n",
    "  return df[df[node] == value].reset_index(drop=True)\n",
    "\n",
    "\n",
    "def buildTree(df,tree=None):\n",
    "    Class = df.keys()[-1]   \n",
    "\n",
    "    #Building the decision tree:\n",
    "    \n",
    "    node = find_winner(df)\n",
    "    attValue = np.unique(df[node])\n",
    "    if tree is None:\n",
    "        tree={}\n",
    "        tree[node] = {}\n",
    "    for value in attValue:\n",
    "\n",
    "        subtable = get_subtable(df,node,value)\n",
    "        clValue,counts = np.unique(subtable['Pass'],return_counts=True)\n",
    "\n",
    "        if len(counts)==1:\n",
    "            tree[node][value] = clValue[0]\n",
    "        else:\n",
    "            tree[node][value] = buildTree(subtable) \n",
    "\n",
    "    return tree\n",
    "tree = buildTree(df)\n",
    "import pprint\n",
    "pprint.pprint(tree)\n"
   ]
  },
  {
   "cell_type": "code",
   "execution_count": 20,
   "metadata": {},
   "outputs": [],
   "source": [
    "def predict(inst,tree):\n",
    "    for nodes in tree.keys():\n",
    "\n",
    "        value = inst[nodes]\n",
    "        tree = tree[nodes][value]\n",
    "        prediction = 0\n",
    "\n",
    "        if type(tree) is dict:\n",
    "            prediction = predict(inst, tree)\n",
    "        else:\n",
    "            prediction = tree\n",
    "            break;\n",
    "\n",
    "    return prediction"
   ]
  },
  {
   "cell_type": "code",
   "execution_count": 21,
   "metadata": {},
   "outputs": [],
   "source": [
    "inst = df.iloc[7]\n"
   ]
  },
  {
   "cell_type": "code",
   "execution_count": 22,
   "metadata": {},
   "outputs": [
    {
     "data": {
      "text/plain": [
       "Physics      High\n",
       "Chemistry     Low\n",
       "Maths         Low\n",
       "Pass          Yes\n",
       "Name: 7, dtype: object"
      ]
     },
     "execution_count": 22,
     "metadata": {},
     "output_type": "execute_result"
    }
   ],
   "source": [
    "inst"
   ]
  },
  {
   "cell_type": "code",
   "execution_count": 23,
   "metadata": {},
   "outputs": [],
   "source": [
    "data = {'Physics':'Low', 'Chemistry':'Low', 'Maths':'High'}"
   ]
  },
  {
   "cell_type": "code",
   "execution_count": 24,
   "metadata": {},
   "outputs": [],
   "source": [
    "inst = pd.Series(data)\n"
   ]
  },
  {
   "cell_type": "code",
   "execution_count": 25,
   "metadata": {},
   "outputs": [
    {
     "data": {
      "text/plain": [
       "'Yes'"
      ]
     },
     "execution_count": 25,
     "metadata": {},
     "output_type": "execute_result"
    }
   ],
   "source": [
    "prediction = predict(inst, tree)\n",
    "prediction"
   ]
  },
  {
   "cell_type": "code",
   "execution_count": null,
   "metadata": {},
   "outputs": [],
   "source": []
  }
 ],
 "metadata": {
  "kernelspec": {
   "display_name": "Python 3",
   "language": "python",
   "name": "python3"
  },
  "language_info": {
   "codemirror_mode": {
    "name": "ipython",
    "version": 3
   },
   "file_extension": ".py",
   "mimetype": "text/x-python",
   "name": "python",
   "nbconvert_exporter": "python",
   "pygments_lexer": "ipython3",
   "version": "3.7.1"
  }
 },
 "nbformat": 4,
 "nbformat_minor": 2
}
